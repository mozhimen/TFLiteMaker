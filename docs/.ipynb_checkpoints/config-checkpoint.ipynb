{
 "cells": [
  {
   "cell_type": "markdown",
   "id": "9686490e",
   "metadata": {},
   "source": [
    "# Tensorflow的配置"
   ]
  },
  {
   "cell_type": "markdown",
   "id": "13e3acc9",
   "metadata": {},
   "source": [
    "## 1.环境的创建过程(Conda,Jupyter)\n",
    "\n",
    "1. 下载Anaconda(自带Jupyter)\n",
    "2. 安装Anaconda配置虚拟环境"
   ]
  },
  {
   "cell_type": "code",
   "execution_count": null,
   "id": "75a05499",
   "metadata": {},
   "outputs": [],
   "source": [
    "# 创建环境\n",
    "!conda create --name py3810_tf python=3.8.10"
   ]
  },
  {
   "cell_type": "code",
   "execution_count": null,
   "id": "c9c0bbe1",
   "metadata": {},
   "outputs": [],
   "source": [
    "# 激活环境\n",
    "!conda activate py3810_tf"
   ]
  },
  {
   "cell_type": "code",
   "execution_count": 1,
   "id": "bc053848",
   "metadata": {},
   "outputs": [
    {
     "name": "stdout",
     "output_type": "stream",
     "text": [
      "# conda environments:\n",
      "#\n",
      "py3810_tf             *  C:\\Users\\83524\\.conda\\envs\\py3810_tf\n",
      "py3916_yolov5            C:\\Users\\83524\\.conda\\envs\\py3916_yolov5\n",
      "base                     D:\\Software\\1_Anaconda\n",
      "\n"
     ]
    }
   ],
   "source": [
    "# 确认所在环境是否正确\n",
    "!conda env list"
   ]
  },
  {
   "cell_type": "code",
   "execution_count": 2,
   "id": "c7516a5f",
   "metadata": {},
   "outputs": [
    {
     "name": "stdout",
     "output_type": "stream",
     "text": [
      "Python 3.8.10\n"
     ]
    }
   ],
   "source": [
    "# 测试python版本\n",
    "!python -V"
   ]
  },
  {
   "cell_type": "code",
   "execution_count": null,
   "id": "cb596142",
   "metadata": {},
   "outputs": [],
   "source": [
    "# 安装ipykernel\n",
    "!conda install ipykernel"
   ]
  },
  {
   "cell_type": "code",
   "execution_count": null,
   "id": "79932b0d",
   "metadata": {},
   "outputs": [],
   "source": [
    "# 将选择的conda环境注入Jupyter Notebook\n",
    "!python -m ipykernel install --user --name py3810_tf"
   ]
  },
  {
   "cell_type": "code",
   "execution_count": null,
   "id": "3b4e430b",
   "metadata": {},
   "outputs": [],
   "source": [
    "# 查看内核列表\n",
    "!jupyter kernelspec list"
   ]
  },
  {
   "cell_type": "code",
   "execution_count": null,
   "id": "b98eb0b2",
   "metadata": {},
   "outputs": [],
   "source": [
    "# 安装nb_conda(在虚拟环境)\n",
    "!conda install nb_conda"
   ]
  },
  {
   "cell_type": "markdown",
   "id": "c3f1ad2b",
   "metadata": {},
   "source": [
    "> CondaSSLError: Encountered an SSL error. Most likely a certificate verification issue.\n",
    "Exception: HTTPSConnectionPool(host='repo.anaconda.com', port=443): Max retries exceeded with url: /pkgs/main/win-64/current_repodata.json (Caused by SSLError(SSLEOFError(8, 'EOF occurred in violation of protocol (_ssl.c:997)')))\n",
    "\n",
    "解决方案: 增加镜像"
   ]
  },
  {
   "cell_type": "code",
   "execution_count": null,
   "id": "bb97c494",
   "metadata": {},
   "outputs": [],
   "source": [
    "# 增加channel\n",
    "!conda config --add channels https://mirrors.ustc.edu.cn/anaconda/pkgs/free/\n",
    "!conda config --add channels https://mirrors.tuna.tsinghua.edu.cn/anaconda/cloud/conda-forge/\n",
    "!conda config --add channels https://mirrors.tuna.tsinghua.edu.cn/anaconda/pkgs/free/\n",
    "!conda config --set show_channel_urls yes"
   ]
  },
  {
   "cell_type": "code",
   "execution_count": null,
   "id": "addad9bd",
   "metadata": {},
   "outputs": [],
   "source": [
    "# 查看config\n",
    "!conda config --show"
   ]
  },
  {
   "cell_type": "markdown",
   "id": "afdf01ba",
   "metadata": {},
   "source": [
    "***"
   ]
  },
  {
   "cell_type": "code",
   "execution_count": null,
   "id": "38aed77d",
   "metadata": {},
   "outputs": [],
   "source": [
    "# 打开jupyter\n",
    "!jupyter notebook --notebook-dir='D:\\WorkSpace\\GitHub\\TFLiteMaker\\docs'"
   ]
  },
  {
   "cell_type": "markdown",
   "id": "b6f01382",
   "metadata": {},
   "source": [
    "1. 切换kernel到虚拟环境py3810_tf\n",
    "2. 检查环境是否是虚拟环境"
   ]
  },
  {
   "cell_type": "code",
   "execution_count": null,
   "id": "de39c52e",
   "metadata": {},
   "outputs": [],
   "source": [
    "# 确认所在环境是否正确\n",
    "!conda env list"
   ]
  },
  {
   "cell_type": "markdown",
   "id": "ae4d4297",
   "metadata": {},
   "source": [
    "***"
   ]
  },
  {
   "cell_type": "markdown",
   "id": "814e51cd",
   "metadata": {},
   "source": [
    "- 删除环境(附录, 可直接跳过, 重置环境时使用)"
   ]
  },
  {
   "cell_type": "code",
   "execution_count": null,
   "id": "45e46e66",
   "metadata": {},
   "outputs": [],
   "source": [
    "# 查看虚拟环境\n",
    "!conda env list"
   ]
  },
  {
   "cell_type": "code",
   "execution_count": null,
   "id": "634fa852",
   "metadata": {},
   "outputs": [],
   "source": [
    "# 退出当前环境\n",
    "!conda deactivate"
   ]
  },
  {
   "cell_type": "code",
   "execution_count": null,
   "id": "e4690b10",
   "metadata": {},
   "outputs": [],
   "source": [
    "# 确认是否退出\n",
    "!conda env list"
   ]
  },
  {
   "cell_type": "code",
   "execution_count": null,
   "id": "431f0369",
   "metadata": {},
   "outputs": [],
   "source": [
    "# 删除conda虚拟环境\n",
    "!conda remove -n py3916_yolov5 --all"
   ]
  },
  {
   "cell_type": "code",
   "execution_count": null,
   "id": "93b5c645",
   "metadata": {},
   "outputs": [],
   "source": [
    "# 可以通过以下命令查看已有的环境列表确认删除\n",
    "!conda info -e"
   ]
  },
  {
   "cell_type": "code",
   "execution_count": null,
   "id": "834091ff",
   "metadata": {},
   "outputs": [],
   "source": [
    "# 查看核心的内核和位置\n",
    "!jupyter kernelspec list"
   ]
  },
  {
   "cell_type": "code",
   "execution_count": null,
   "id": "eb6b806c",
   "metadata": {},
   "outputs": [],
   "source": [
    "# 删除kernel核心\n",
    "!jupyter kernelspec remove py3810_tf  "
   ]
  },
  {
   "cell_type": "code",
   "execution_count": null,
   "id": "8ed35069",
   "metadata": {},
   "outputs": [],
   "source": [
    "# 再次确认是否删除\n",
    "!jupyter kernelspec list"
   ]
  }
 ],
 "metadata": {
  "kernelspec": {
   "display_name": "Python [conda env:.conda-py3810_tf] *",
   "language": "python",
   "name": "conda-env-.conda-py3810_tf-py"
  },
  "language_info": {
   "codemirror_mode": {
    "name": "ipython",
    "version": 3
   },
   "file_extension": ".py",
   "mimetype": "text/x-python",
   "name": "python",
   "nbconvert_exporter": "python",
   "pygments_lexer": "ipython3",
   "version": "3.8.10"
  }
 },
 "nbformat": 4,
 "nbformat_minor": 5
}
